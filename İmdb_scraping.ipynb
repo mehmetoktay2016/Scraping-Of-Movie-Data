{
  "nbformat": 4,
  "nbformat_minor": 0,
  "metadata": {
    "colab": {
      "name": "udemy_imdb.ipynb",
      "provenance": [],
      "collapsed_sections": []
    },
    "kernelspec": {
      "name": "python3",
      "display_name": "Python 3"
    }
  },
  "cells": [
    {
      "cell_type": "code",
      "metadata": {
        "colab": {
          "base_uri": "https://localhost:8080/"
        },
        "id": "GfHTUYgfZaHg",
        "outputId": "30cc516d-e2a1-4053-befa-fd26aed48b82"
      },
      "source": [
        "#kutuphanelerin yuklenmesi\n",
        "!pip install beautifulsoup4\n",
        "!pip install requests\n",
        "from bs4 import BeautifulSoup\n",
        "import requests # sitelere istek gondermek icin\n",
        "import numpy as np\n",
        "import pandas as pd"
      ],
      "execution_count": 44,
      "outputs": [
        {
          "output_type": "stream",
          "text": [
            "Requirement already satisfied: beautifulsoup4 in /usr/local/lib/python3.7/dist-packages (4.6.3)\n",
            "Requirement already satisfied: requests in /usr/local/lib/python3.7/dist-packages (2.23.0)\n",
            "Requirement already satisfied: chardet<4,>=3.0.2 in /usr/local/lib/python3.7/dist-packages (from requests) (3.0.4)\n",
            "Requirement already satisfied: urllib3!=1.25.0,!=1.25.1,<1.26,>=1.21.1 in /usr/local/lib/python3.7/dist-packages (from requests) (1.24.3)\n",
            "Requirement already satisfied: certifi>=2017.4.17 in /usr/local/lib/python3.7/dist-packages (from requests) (2020.12.5)\n",
            "Requirement already satisfied: idna<3,>=2.5 in /usr/local/lib/python3.7/dist-packages (from requests) (2.10)\n"
          ],
          "name": "stdout"
        }
      ]
    },
    {
      "cell_type": "code",
      "metadata": {
        "id": "OBsbfXLSa59k"
      },
      "source": [
        "#sayfa linkinin verilmesi\n",
        "link =\"https://www.imdb.com/chart/top/?ref_=nv_mv_250\"\n",
        "\n",
        "#sayfa linkinin url olarak isimlendirilmesi\n",
        "url= link\n",
        "\n",
        "headers={\"User-Agent\":\"Mozilla/5.0 (Macintosh; Intel Mac OS X 10_15_6) AppleWebKit/537.36 (KHTML, like Gecko) Chrome/85.0.4183.83 Safari/537.36\"}\n",
        "\n",
        "#sayfaya istek atılması\n",
        "r = requests.get(url , headers = headers)\n",
        "\n",
        "#sayfa kaynagını al.\n",
        "soup = BeautifulSoup(r.content,\"lxml\")\n",
        "\n",
        "#film_name ve film_rating adında ıkı bos liste olusturulması\n",
        "film_name = []\n",
        "film_rating = []\n",
        "\n",
        "#film baslıklarının hepsini cekilmesini saglamaktadır. For dongusu ile de bu isimler tek tek cekilip film_name listesinin icine atılacaktır.\n",
        "soup_title = soup.find_all(\"td\", attrs={\"class\":\"titleColumn\"})  \n",
        "\n",
        "for names in soup_title:\n",
        "  \n",
        "  try:\n",
        "    #cekilen film ismi varsa film_name icine ismi yolla\n",
        "    film_name.append(names.text.strip())\n",
        "    \n",
        "  except:\n",
        "    #cekilen film ismi yoksa film_rating icine bos deger yolla\n",
        "    film_name.append(np.NaN)\n",
        "    \n",
        "\n",
        "#film puanlarının hepsini cekilmesini saglamaktadır. For dongusu ile de bu puanlar tek tek cekilip film_rating listesinin icine atılacaktır.\n",
        "soup_rating = soup.find_all(\"td\", attrs={\"class\":\"ratingColumn imdbRating\"}) \n",
        "\n",
        "for rating in soup_rating:\n",
        "  \n",
        "  \n",
        "  try:\n",
        "    #cekilen puan varsa film_rating icine puanı yolla\n",
        "    film_rating.append(rating.text.strip())\n",
        "    \n",
        "  except:\n",
        "    #cekilen puan yoksa film_rating icine bos deger yolla\n",
        "    film_rating.append(np.NaN)\n",
        "    "
      ],
      "execution_count": 45,
      "outputs": []
    },
    {
      "cell_type": "code",
      "metadata": {
        "colab": {
          "base_uri": "https://localhost:8080/",
          "height": 107
        },
        "id": "O5Xf9smPd_ow",
        "outputId": "665bb8b3-ab05-40e4-c7b9-040c5a78369f"
      },
      "source": [
        "#film_name'nin dataframe'ye cevrilmesi\n",
        "film_name = pd.DataFrame(film_name )\n",
        "\n",
        "#kolon ismi verilmesi\n",
        "film_name.columns = [\"film_name\"]\n",
        "\n",
        "#film_rating'in dataframe'ye cevrilmesi\n",
        "film_rating = pd.DataFrame(film_rating ,columns = [\"film_rating\"])\n",
        "\n",
        "#kolon ismi verilmesi\n",
        "film_rating.columns = [\"film_rating\"]\n",
        "\n",
        "#film_name ve film_rating'in birlestirilmesi\n",
        "df_all = pd.concat([film_name  , film_rating] , axis = 1)\n",
        "\n",
        "#ilk 2 gozlemin gosterilmesi\n",
        "df_all.head(2)"
      ],
      "execution_count": 46,
      "outputs": [
        {
          "output_type": "execute_result",
          "data": {
            "text/html": [
              "<div>\n",
              "<style scoped>\n",
              "    .dataframe tbody tr th:only-of-type {\n",
              "        vertical-align: middle;\n",
              "    }\n",
              "\n",
              "    .dataframe tbody tr th {\n",
              "        vertical-align: top;\n",
              "    }\n",
              "\n",
              "    .dataframe thead th {\n",
              "        text-align: right;\n",
              "    }\n",
              "</style>\n",
              "<table border=\"1\" class=\"dataframe\">\n",
              "  <thead>\n",
              "    <tr style=\"text-align: right;\">\n",
              "      <th></th>\n",
              "      <th>film_name</th>\n",
              "      <th>film_rating</th>\n",
              "    </tr>\n",
              "  </thead>\n",
              "  <tbody>\n",
              "    <tr>\n",
              "      <th>0</th>\n",
              "      <td>1.\\n      The Shawshank Redemption\\n(1994)</td>\n",
              "      <td>9.2</td>\n",
              "    </tr>\n",
              "    <tr>\n",
              "      <th>1</th>\n",
              "      <td>2.\\n      The Godfather\\n(1972)</td>\n",
              "      <td>9.1</td>\n",
              "    </tr>\n",
              "  </tbody>\n",
              "</table>\n",
              "</div>"
            ],
            "text/plain": [
              "                                    film_name film_rating\n",
              "0  1.\\n      The Shawshank Redemption\\n(1994)         9.2\n",
              "1             2.\\n      The Godfather\\n(1972)         9.1"
            ]
          },
          "metadata": {
            "tags": []
          },
          "execution_count": 46
        }
      ]
    },
    {
      "cell_type": "markdown",
      "metadata": {
        "id": "BAO2q0xthTBa"
      },
      "source": [
        "# Veinin Temizlenmesi\n"
      ]
    },
    {
      "cell_type": "code",
      "metadata": {
        "colab": {
          "base_uri": "https://localhost:8080/"
        },
        "id": "VLDxDqVCgWk-",
        "outputId": "a5e270cd-ca91-44c2-b9ad-83529b6d803f"
      },
      "source": [
        "#verinin tiplerinin gosterilmesi\n",
        "df_all.dtypes"
      ],
      "execution_count": 47,
      "outputs": [
        {
          "output_type": "execute_result",
          "data": {
            "text/plain": [
              "film_name      object\n",
              "film_rating    object\n",
              "dtype: object"
            ]
          },
          "metadata": {
            "tags": []
          },
          "execution_count": 47
        }
      ]
    },
    {
      "cell_type": "code",
      "metadata": {
        "id": "H1ZElIqohgmz"
      },
      "source": [
        "#Rating'in float degere cevirilmesi gerekmektedir.\n",
        "df_all.film_rating = df_all.film_rating.astype(\"float\")"
      ],
      "execution_count": 48,
      "outputs": []
    },
    {
      "cell_type": "code",
      "metadata": {
        "id": "K-KDn4Ymhvx5"
      },
      "source": [
        "#film_name 'in isimleri ve tarihleri olarak iki ayrılması. Ve film_name'nin alınması.\n",
        "df_all[\"film_names\"] = df_all[\"film_name\"].apply(lambda x : x.split(\"\\n\")[1] )"
      ],
      "execution_count": 49,
      "outputs": []
    },
    {
      "cell_type": "code",
      "metadata": {
        "id": "Akxtf73LiIQA"
      },
      "source": [
        "#film_name 'in isimleri ve tarihleri olarak iki ayrılması. Ve film_date'in alınması.\n",
        "df_all[\"film_date\"] = df_all[\"film_name\"].apply(lambda x : x.split(\"\\n\")[2] )"
      ],
      "execution_count": 50,
      "outputs": []
    },
    {
      "cell_type": "code",
      "metadata": {
        "colab": {
          "base_uri": "https://localhost:8080/",
          "height": 137
        },
        "id": "SVbcVmTijsHH",
        "outputId": "98118c0c-64f1-432d-feb1-b12cc9da4210"
      },
      "source": [
        "#ilk 3 gozlemın gosterilmesi\n",
        "df_all.head(3)"
      ],
      "execution_count": 51,
      "outputs": [
        {
          "output_type": "execute_result",
          "data": {
            "text/html": [
              "<div>\n",
              "<style scoped>\n",
              "    .dataframe tbody tr th:only-of-type {\n",
              "        vertical-align: middle;\n",
              "    }\n",
              "\n",
              "    .dataframe tbody tr th {\n",
              "        vertical-align: top;\n",
              "    }\n",
              "\n",
              "    .dataframe thead th {\n",
              "        text-align: right;\n",
              "    }\n",
              "</style>\n",
              "<table border=\"1\" class=\"dataframe\">\n",
              "  <thead>\n",
              "    <tr style=\"text-align: right;\">\n",
              "      <th></th>\n",
              "      <th>film_name</th>\n",
              "      <th>film_rating</th>\n",
              "      <th>film_names</th>\n",
              "      <th>film_date</th>\n",
              "    </tr>\n",
              "  </thead>\n",
              "  <tbody>\n",
              "    <tr>\n",
              "      <th>0</th>\n",
              "      <td>1.\\n      The Shawshank Redemption\\n(1994)</td>\n",
              "      <td>9.2</td>\n",
              "      <td>The Shawshank Redemption</td>\n",
              "      <td>(1994)</td>\n",
              "    </tr>\n",
              "    <tr>\n",
              "      <th>1</th>\n",
              "      <td>2.\\n      The Godfather\\n(1972)</td>\n",
              "      <td>9.1</td>\n",
              "      <td>The Godfather</td>\n",
              "      <td>(1972)</td>\n",
              "    </tr>\n",
              "    <tr>\n",
              "      <th>2</th>\n",
              "      <td>3.\\n      The Godfather: Part II\\n(1974)</td>\n",
              "      <td>9.0</td>\n",
              "      <td>The Godfather: Part II</td>\n",
              "      <td>(1974)</td>\n",
              "    </tr>\n",
              "  </tbody>\n",
              "</table>\n",
              "</div>"
            ],
            "text/plain": [
              "                                    film_name  ...  film_date\n",
              "0  1.\\n      The Shawshank Redemption\\n(1994)  ...     (1994)\n",
              "1             2.\\n      The Godfather\\n(1972)  ...     (1972)\n",
              "2    3.\\n      The Godfather: Part II\\n(1974)  ...     (1974)\n",
              "\n",
              "[3 rows x 4 columns]"
            ]
          },
          "metadata": {
            "tags": []
          },
          "execution_count": 51
        }
      ]
    },
    {
      "cell_type": "code",
      "metadata": {
        "id": "vxtN5d1VkBU9"
      },
      "source": [
        "#film_name' gerek kalmadığı için düşürüyoruz.\n",
        "\n",
        "df_all = df_all.drop([\"film_name\"] , axis = 1)"
      ],
      "execution_count": 52,
      "outputs": []
    },
    {
      "cell_type": "code",
      "metadata": {
        "id": "qYkY3b8KkVNq"
      },
      "source": [
        "#Tarih kısmının işlenebilmesi için parantezlerden kurtulmamız lazım.\n",
        "\n",
        "df_all[\"film_date\"] = df_all[\"film_date\"].str.replace(\"(\",\"\")\n",
        "df_all[\"film_date\"] = df_all[\"film_date\"].str.replace(\")\",\"\")"
      ],
      "execution_count": 53,
      "outputs": []
    },
    {
      "cell_type": "code",
      "metadata": {
        "id": "f4vU3mLBklx2"
      },
      "source": [
        "#film_date object oldugu icin  sayısal degerlere cevirmemiz gerekir. Çünkü veri bilimi işlemlerinde kullanmamız gerekiyor.\n",
        "\n",
        "df_all[\"film_date\"] = df_all[\"film_date\"].astype(\"int\")"
      ],
      "execution_count": 54,
      "outputs": []
    },
    {
      "cell_type": "code",
      "metadata": {
        "colab": {
          "base_uri": "https://localhost:8080/"
        },
        "id": "a-9_d2z3lTZ6",
        "outputId": "d7017ed7-86f2-4383-cc92-51f253ec2774"
      },
      "source": [
        "#verinin tiplerinin kontrol edilmesi\n",
        "df_all.dtypes"
      ],
      "execution_count": 55,
      "outputs": [
        {
          "output_type": "execute_result",
          "data": {
            "text/plain": [
              "film_rating    float64\n",
              "film_names      object\n",
              "film_date        int64\n",
              "dtype: object"
            ]
          },
          "metadata": {
            "tags": []
          },
          "execution_count": 55
        }
      ]
    },
    {
      "cell_type": "code",
      "metadata": {
        "colab": {
          "base_uri": "https://localhost:8080/",
          "height": 137
        },
        "id": "pa6USLgNUOWH",
        "outputId": "ca1c38a8-ab44-44f9-a1bd-9658415eec16"
      },
      "source": [
        "#ilk 3 gozlemin gosterilmesi\n",
        "df_all.head(3)"
      ],
      "execution_count": 56,
      "outputs": [
        {
          "output_type": "execute_result",
          "data": {
            "text/html": [
              "<div>\n",
              "<style scoped>\n",
              "    .dataframe tbody tr th:only-of-type {\n",
              "        vertical-align: middle;\n",
              "    }\n",
              "\n",
              "    .dataframe tbody tr th {\n",
              "        vertical-align: top;\n",
              "    }\n",
              "\n",
              "    .dataframe thead th {\n",
              "        text-align: right;\n",
              "    }\n",
              "</style>\n",
              "<table border=\"1\" class=\"dataframe\">\n",
              "  <thead>\n",
              "    <tr style=\"text-align: right;\">\n",
              "      <th></th>\n",
              "      <th>film_rating</th>\n",
              "      <th>film_names</th>\n",
              "      <th>film_date</th>\n",
              "    </tr>\n",
              "  </thead>\n",
              "  <tbody>\n",
              "    <tr>\n",
              "      <th>0</th>\n",
              "      <td>9.2</td>\n",
              "      <td>The Shawshank Redemption</td>\n",
              "      <td>1994</td>\n",
              "    </tr>\n",
              "    <tr>\n",
              "      <th>1</th>\n",
              "      <td>9.1</td>\n",
              "      <td>The Godfather</td>\n",
              "      <td>1972</td>\n",
              "    </tr>\n",
              "    <tr>\n",
              "      <th>2</th>\n",
              "      <td>9.0</td>\n",
              "      <td>The Godfather: Part II</td>\n",
              "      <td>1974</td>\n",
              "    </tr>\n",
              "  </tbody>\n",
              "</table>\n",
              "</div>"
            ],
            "text/plain": [
              "   film_rating                      film_names  film_date\n",
              "0          9.2        The Shawshank Redemption       1994\n",
              "1          9.1                   The Godfather       1972\n",
              "2          9.0          The Godfather: Part II       1974"
            ]
          },
          "metadata": {
            "tags": []
          },
          "execution_count": 56
        }
      ]
    },
    {
      "cell_type": "markdown",
      "metadata": {
        "id": "1ueYwdI_zt20"
      },
      "source": [
        "# Verinin İndirilmesi"
      ]
    },
    {
      "cell_type": "code",
      "metadata": {
        "colab": {
          "base_uri": "https://localhost:8080/",
          "height": 17
        },
        "id": "duChmqU_lVLR",
        "outputId": "d8e939bb-8bd7-4b19-9fa0-b4aa98d37370"
      },
      "source": [
        "#verinin csv olarak kaydedilmesi\n",
        "df_all.to_csv(r\"imdb_data.csv\",encoding=\"utf-8\", index=False , mode=\"a\")\n",
        "\n",
        "#df.to_csv(r\"kitap_tavsiye_123.csv\",encoding=\"utf-8\", index=False , mode=\"a\")\n",
        "from google.colab import files\n",
        "files.download('imdb_data.csv')"
      ],
      "execution_count": null,
      "outputs": [
        {
          "output_type": "display_data",
          "data": {
            "application/javascript": [
              "\n",
              "    async function download(id, filename, size) {\n",
              "      if (!google.colab.kernel.accessAllowed) {\n",
              "        return;\n",
              "      }\n",
              "      const div = document.createElement('div');\n",
              "      const label = document.createElement('label');\n",
              "      label.textContent = `Downloading \"${filename}\": `;\n",
              "      div.appendChild(label);\n",
              "      const progress = document.createElement('progress');\n",
              "      progress.max = size;\n",
              "      div.appendChild(progress);\n",
              "      document.body.appendChild(div);\n",
              "\n",
              "      const buffers = [];\n",
              "      let downloaded = 0;\n",
              "\n",
              "      const channel = await google.colab.kernel.comms.open(id);\n",
              "      // Send a message to notify the kernel that we're ready.\n",
              "      channel.send({})\n",
              "\n",
              "      for await (const message of channel.messages) {\n",
              "        // Send a message to notify the kernel that we're ready.\n",
              "        channel.send({})\n",
              "        if (message.buffers) {\n",
              "          for (const buffer of message.buffers) {\n",
              "            buffers.push(buffer);\n",
              "            downloaded += buffer.byteLength;\n",
              "            progress.value = downloaded;\n",
              "          }\n",
              "        }\n",
              "      }\n",
              "      const blob = new Blob(buffers, {type: 'application/binary'});\n",
              "      const a = document.createElement('a');\n",
              "      a.href = window.URL.createObjectURL(blob);\n",
              "      a.download = filename;\n",
              "      div.appendChild(a);\n",
              "      a.click();\n",
              "      div.remove();\n",
              "    }\n",
              "  "
            ],
            "text/plain": [
              "<IPython.core.display.Javascript object>"
            ]
          },
          "metadata": {
            "tags": []
          }
        },
        {
          "output_type": "display_data",
          "data": {
            "application/javascript": [
              "download(\"download_0578afb3-c191-4694-995d-39719125ef3a\", \"imdb_data.csv\", 7915)"
            ],
            "text/plain": [
              "<IPython.core.display.Javascript object>"
            ]
          },
          "metadata": {
            "tags": []
          }
        }
      ]
    }
  ]
}